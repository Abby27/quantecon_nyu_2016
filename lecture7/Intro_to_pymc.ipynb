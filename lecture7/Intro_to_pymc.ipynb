{
 "cells": [
  {
   "cell_type": "markdown",
   "metadata": {
    "collapsed": true
   },
   "source": [
    "-------------------\n",
    "# Intorduction to `PyMC2`\n",
    "\n",
    "#### Balint Szoke\n",
    "-----------------------"
   ]
  },
  {
   "cell_type": "markdown",
   "metadata": {},
   "source": [
    "Installation:\n",
    "\n",
    "`>> conda install pymc`"
   ]
  },
  {
   "cell_type": "code",
   "execution_count": 142,
   "metadata": {
    "collapsed": true
   },
   "outputs": [],
   "source": [
    "%matplotlib inline\n",
    "import numpy as np\n",
    "import scipy as sp \n",
    "import pymc as pm\n",
    "import seaborn as sb\n",
    "import matplotlib.pyplot as plt"
   ]
  },
  {
   "cell_type": "markdown",
   "metadata": {},
   "source": [
    "## Probabilistic model\n",
    "\n",
    "Suppose you have a sample $\\{y_t\\}_{t=0}^{T}$ and want to characeterize it by the following probabilistic model; for $t\\geq 0$ \n",
    "\n",
    "$$ y_{t+1} = \\rho y_t + \\sigma_x \\varepsilon_{t+1}, \\quad \\varepsilon_{t+1}\\stackrel{iid}{\\sim}\\cal{N}(0,1) $$\n",
    "\n",
    "with the initial value $y_0 \\sim {\\cal N}\\left(0, \\frac{\\sigma_x^2}{1-\\rho^2}\\right)$ and suppose the following (independent) prior beliefs for the parameters $\\theta \\equiv (\\rho, \\sigma_x)$\n",
    " - $\\rho \\sim \\text{U}(-1, 1)$\n",
    " - $\\sigma_x \\sim \\text{IG}(a, b)$\n",
    " \n",
    " \n",
    "**Aim:** given the statistical model and the prior $\\pi(\\theta)$ we want to ''compute'' the posterior distribution $p\\left( \\theta \\hspace{1mm} | \\hspace{1mm} y^T  \\right)$ associated with the sample $y^T$.\n",
    "\n",
    "**How:** if no conjugate form available, sample from $p\\left( \\theta \\hspace{1mm} | \\hspace{1mm} y^T  \\right)$ and learn about the posterior's properties from that sample \n",
    "\n",
    "> **Remark:** We go from the prior $\\pi$ to the posterior $p$ by using Bayes rule:\n",
    "\\begin{equation}\n",
    "p\\left( \\theta \\hspace{1mm} | \\hspace{1mm} y^T  \\right) = \\frac{f( y^T \\hspace{1mm}| \\hspace{1mm}\\theta) \\pi(\\theta) }{f( y^T)}\n",
    "\\end{equation}\n",
    "The first-order autoregression implies that the likelihood function of $y^T$ can be factored as follows:\n",
    "\n",
    ">$$ f(y^T \\hspace{1mm}|\\hspace{1mm} \\theta) = f(y_T| y_{T-1}; \\theta)\\cdot f(y_{T-1}| y_{T-2}; \\theta) \\cdots f(y_1 | y_0;\\theta )\\cdot f(y_0 |\\theta) $$\n",
    "where for all $t\\geq 1$\n",
    "$$ f(y_t | y_{t-1}; \\theta) = {\\mathcal N}(\\rho y_{t-1}, \\sigma_x^2) =  {\\mathcal N}(\\mu_t, \\sigma_x^2)$$\n"
   ]
  },
  {
   "cell_type": "markdown",
   "metadata": {},
   "source": [
    "Generate a sample with $T=100$ for known parameter values:\n",
    "$$\\rho = 0.5\\quad \\sigma_x = 1.0$$"
   ]
  },
  {
   "cell_type": "code",
   "execution_count": 143,
   "metadata": {
    "collapsed": false
   },
   "outputs": [],
   "source": [
    "def sample_path(rho, sigma, T, y0=None):\n",
    "    '''\n",
    "    Simulates the sample path for y of length T+1 starting from a specified initial value OR if y0 \n",
    "    is None, it initializes the path with a draw from the stationary distribution of y. \n",
    "    \n",
    "    Arguments\n",
    "    -----------------\n",
    "        rho (Float) : AR coefficient \n",
    "        sigma (Float) : standard deviation of the error\n",
    "        T (Int)       : length of the sample path without x0\n",
    "        y0 (Float)    : initial value of X\n",
    "    \n",
    "    Return:\n",
    "    -----------------\n",
    "        y_path (Numpy Array) : simulated path\n",
    "        \n",
    "    '''\n",
    "    if y0 == None:\n",
    "        stdev_erg = sigma / np.sqrt(1 - rho**2) \n",
    "        y0 = np.random.normal(0, stdev_erg)\n",
    "    \n",
    "    y_path = np.empty(T+1)\n",
    "    y_path[0] = y0\n",
    "    eps_path = np.random.normal(0, 1, T)\n",
    "    \n",
    "    for t in range(T):\n",
    "        y_path[t + 1] = rho * y_path[t] + sigma * eps_path[t]\n",
    "    \n",
    "    return y_path \n",
    "\n",
    "#-------------------------------------------------------\n",
    "\n",
    "# Pick true values:\n",
    "rho_true, sigma_x_true, T = 0.5, 1.0, 20\n",
    "\n",
    "#np.random.seed(1453534)\n",
    "sample = sample_path(rho_true, sigma_x_true, T)"
   ]
  },
  {
   "cell_type": "markdown",
   "metadata": {},
   "source": [
    "## Probabilistic models in `pymc`\n",
    "\n",
    "*Model instance* $\\approx$ collection of random variables linked together according to some rules\n",
    "\n",
    "### Linkages (hierarchical structure):\n",
    "   * **parent**: variables that influence another variable\n",
    "    - e.g. $\\rho$ and $\\sigma_x$ are parents of $y_0$, $a$ and $b$ are parents of $sigma_x$\n",
    "    \n",
    "   * **child**: variables that are affected by other variables (subjects of parent variables)\n",
    "    - e.g. $y_t$ is a child of $y_{t-1}$, $\\rho$ and $\\sigma_x$\n",
    "\n",
    ">*Why are they useful?*\n",
    "\n",
    "> child variable's current value automatically changes whenever its parents' values change\n",
    "\n",
    "### Random variables: \n",
    "- have a `value` attribute producing the current internal value (given the values of the parents)\n",
    "    - computed on-demand and cached for efficiency.\n",
    "- other important attributes: `parents` (gives dictionary), `children` (gives a set) \n",
    "\n",
    "Two main classes of random variables in `pymc`:\n",
    "\n",
    "#### 1) Stochastic variable:\n",
    "- variable whose value is not completely determined by its parents\n",
    "- *Examples:*\n",
    "    * parameters with a given distribution \n",
    "    * observable variables (data) = particular realizations of a random variable (see below) \n",
    "- treated by the back end as random number generators (see built-in `random()` method)\n",
    "- `logp` attribute: evaluate the logprob (mass or density) at the current value; for vector-valued variables it returns the sum of the (joint) logprob\n",
    "- *Initialization:*\n",
    "    * define the distribution (built-in or your own) with `name` + params of the distribution (can be `pymc` variable)\n",
    "    * optional flags: \n",
    "     - `value`: for a default initial value; if not specified, initialized by a draw from the given distribution \n",
    "     - `size`: for multivariate array of independent stochastic variables. (Alternatively: use array as a distribution parameter)"
   ]
  },
  {
   "cell_type": "markdown",
   "metadata": {},
   "source": [
    "Initialize `stochastic variables`"
   ]
  },
  {
   "cell_type": "code",
   "execution_count": 144,
   "metadata": {
    "collapsed": true
   },
   "outputs": [],
   "source": [
    "# Priors:\n",
    "rho = pm.Uniform('rho', lower = -1, upper = 1)      # note the capitalized distribution name (rule for pymc distributions)    \n",
    "sigma_x = pm.InverseGamma('sigma_x', alpha = 3, beta = 1)"
   ]
  },
  {
   "cell_type": "code",
   "execution_count": 145,
   "metadata": {
    "collapsed": false
   },
   "outputs": [
    {
     "name": "stdout",
     "output_type": "stream",
     "text": [
      "Initialization:\n",
      "Current value of rho = -0.615898\n",
      "Current logprob of rho = -0.693147\n",
      "\n",
      "After redrawing:\n",
      "Current value of rho =  0.630793\n",
      "Current logprob of rho = -0.693147\n"
     ]
    }
   ],
   "source": [
    "# random() method\n",
    "print('Initialization:')\n",
    "print(\"Current value of rho = {: f}\".format(rho.value.reshape(1,)[0]))\n",
    "print(\"Current logprob of rho = {: f}\".format(rho.logp))\n",
    "\n",
    "rho.random()\n",
    "print('\\nAfter redrawing:')\n",
    "print(\"Current value of rho = {: f}\".format(rho.value.reshape(1,)[0]))\n",
    "print(\"Current logprob of rho = {: f}\".format(rho.logp))\n"
   ]
  },
  {
   "cell_type": "markdown",
   "metadata": {},
   "source": [
    "------------------\n",
    "#### 2) Determinsitic variable:\n",
    "- variable that is entirely determined by its parents \n",
    "- ''exact functions'' of stochastic variables, however, we can treat them as a variable and not a Python function.\n",
    "- *Examples:*\n",
    "  * model implied restrictions on how the parameters and the observable variables are related\n",
    "     - $\\text{var}(y_0)$ is a function of $\\rho$ and $\\sigma_x$\n",
    "     - $\\mu_{t}$ is an exact function of $\\rho$ and $y_{t-1}$\n",
    "  * sample statistics, i.e. deterministic functions of the sample\n",
    "- *Initialization:*\n",
    "  * decorator form: \n",
    "      - Python function of stochastic variables AND default values + the decorator `pm.deterministic` \n",
    "  * elementary operations (no need to write a function or decorate): $+$, $-$, $*$, $/$ \n",
    "  * `pymc.Lambda`"
   ]
  },
  {
   "cell_type": "markdown",
   "metadata": {},
   "source": [
    "Initialize `deterministic variables`:\n",
    "\n",
    "(a) Standard deviation of $y_0$ is a deterministic function of $\\rho$ and $\\sigma$"
   ]
  },
  {
   "cell_type": "code",
   "execution_count": 146,
   "metadata": {
    "collapsed": true
   },
   "outputs": [],
   "source": [
    "@pm.deterministic(trace = False)\n",
    "def y0_stdev(rho = rho, sigma = sigma_x):\n",
    "    return sigma / np.sqrt(1 - rho**2)\n",
    "\n",
    "# Alternatively:\n",
    "#y0_stdev = pm.Lambda('y0_stdev', lambda r = rho, s = sigma_x: s / np.sqrt(1 - r**2) )"
   ]
  },
  {
   "cell_type": "markdown",
   "metadata": {},
   "source": [
    "(b) Conditional mean of $y_t$, $\\mu_y$, is a deterministic function of $\\rho$ and $y_{t-1}$"
   ]
  },
  {
   "cell_type": "code",
   "execution_count": 147,
   "metadata": {
    "collapsed": false
   },
   "outputs": [
    {
     "name": "stdout",
     "output_type": "stream",
     "text": [
      "<class 'pymc.PyMCObjects.Deterministic'>\n"
     ]
    }
   ],
   "source": [
    "# For elementary operators simply write\n",
    "mu_y = rho * sample[:-1]\n",
    "print(type(mu_y))\n",
    "\n",
    "# You could also write, to generate a list of Determinisitc functions\n",
    "#MU_y = [rho * sample[j] for j in range(T)]         \n",
    "#print(type(MU_y))\n",
    "#print(type(MU_y[1]))\n",
    "#MU_y = pm.Container(MU_y)\n",
    "#print(type(MU_y))"
   ]
  },
  {
   "cell_type": "markdown",
   "metadata": {},
   "source": [
    "Let's see the parents of `y0_stdev`..."
   ]
  },
  {
   "cell_type": "code",
   "execution_count": 148,
   "metadata": {
    "collapsed": false
   },
   "outputs": [
    {
     "data": {
      "text/plain": [
       "{'rho': <pymc.distributions.new_dist_class.<locals>.new_class 'rho' at 0x7f75561a3048>,\n",
       " 'sigma': <pymc.distributions.new_dist_class.<locals>.new_class 'sigma_x' at 0x7f75561a39b0>}"
      ]
     },
     "execution_count": 148,
     "metadata": {},
     "output_type": "execute_result"
    }
   ],
   "source": [
    "y0_stdev.parents"
   ]
  },
  {
   "cell_type": "markdown",
   "metadata": {},
   "source": [
    "Notice that this is a dictionary, so for example..."
   ]
  },
  {
   "cell_type": "code",
   "execution_count": 149,
   "metadata": {
    "collapsed": false
   },
   "outputs": [
    {
     "data": {
      "text/plain": [
       "array(0.6307927826852653)"
      ]
     },
     "execution_count": 149,
     "metadata": {},
     "output_type": "execute_result"
    }
   ],
   "source": [
    "y0_stdev.parents['rho'].value"
   ]
  },
  {
   "cell_type": "code",
   "execution_count": 150,
   "metadata": {
    "collapsed": false
   },
   "outputs": [
    {
     "data": {
      "text/plain": [
       "array(-0.8067244934281792)"
      ]
     },
     "execution_count": 150,
     "metadata": {},
     "output_type": "execute_result"
    }
   ],
   "source": [
    "rho.random()\n",
    "y0_stdev.parents['rho'].value     # if the parent is a pymc variable, the current value will be always 'updated'"
   ]
  },
  {
   "cell_type": "markdown",
   "metadata": {},
   "source": [
    "... and as we alter the parent's value, the child's value changes accordingly"
   ]
  },
  {
   "cell_type": "code",
   "execution_count": 151,
   "metadata": {
    "collapsed": false
   },
   "outputs": [
    {
     "name": "stdout",
     "output_type": "stream",
     "text": [
      "Current value of y0_stdev =  0.951137\n",
      "\n",
      "After redrawing rho:\n",
      "Current value of y0_stdev =  0.564751\n"
     ]
    }
   ],
   "source": [
    "print(\"Current value of y0_stdev = {: f}\".format(y0_stdev.value))\n",
    "\n",
    "rho.random()\n",
    "print('\\nAfter redrawing rho:')\n",
    "print(\"Current value of y0_stdev = {: f}\".format(y0_stdev.value))"
   ]
  },
  {
   "cell_type": "markdown",
   "metadata": {},
   "source": [
    "and similarly for `mu_y`"
   ]
  },
  {
   "cell_type": "code",
   "execution_count": 152,
   "metadata": {
    "collapsed": false
   },
   "outputs": [
    {
     "name": "stdout",
     "output_type": "stream",
     "text": [
      "Current value of mu_y:\n",
      "[ 0.04004946  0.04786201  0.02833744  0.1285417 ]\n",
      "\n",
      "After redrawing rho:\n",
      "Current value of mu_y:\n",
      "[ 0.38506324  0.4601785   0.27245577  1.23588879]\n"
     ]
    }
   ],
   "source": [
    "print(\"Current value of mu_y:\")\n",
    "print(mu_y.value[:4])\n",
    "rho.random()\n",
    "print('\\nAfter redrawing rho:')\n",
    "print(\"Current value of mu_y:\")\n",
    "print(mu_y.value[:4])"
   ]
  },
  {
   "cell_type": "markdown",
   "metadata": {},
   "source": [
    "### How to tell `pymc` what you 'know' about the data? \n",
    "\n",
    "We define the data as a stochastic variable with fixed values and set the `observed` flag equal to `True`\n",
    "\n",
    "For the sample $y^T$, depending on the question at hand, we might want to define \n",
    "   - either $T + 1$ scalar random variables \n",
    "   - or a scalar $y_0$ and a $T$-vector valued $Y$ \n",
    "\n",
    "In the current setup, as we fix the value of $y$ (observed), it doesn't really matter (approach A is easier). However, if we have an array-valued stochastic variable with mutable value, the restriction that we cannot update the values of stochastic variables' in-place becomes onerous in the sampling step (where the step method should propose array-valued variable). Straight from the pymc documentation: \n",
    ">''In this case, it may be preferable to partition the variable into several scalar-valued variables stored in an array or list.''"
   ]
  },
  {
   "cell_type": "markdown",
   "metadata": {},
   "source": [
    "#### (A) $y_0$ as a scalar and $Y$ as a vector valued random variable"
   ]
  },
  {
   "cell_type": "code",
   "execution_count": 153,
   "metadata": {
    "collapsed": false
   },
   "outputs": [],
   "source": [
    "y0 = pm.Normal('y0', mu = 0.0, tau = 1 / y0_stdev, observed = True, value = sample[0])\n",
    "Y = pm.Normal('Y', mu = mu_y, tau = 1 / sigma_x, observed=True, value = sample[1:])"
   ]
  },
  {
   "cell_type": "code",
   "execution_count": 154,
   "metadata": {
    "collapsed": false
   },
   "outputs": [
    {
     "data": {
      "text/plain": [
       "array([-0.49029625, -0.29028745, -1.31677523, -0.2966883 , -0.5337306 ,\n",
       "       -3.36540298, -2.02043236, -1.0834821 ,  0.01594337, -0.57355078,\n",
       "        0.92050047, -0.09611809, -0.21923504,  0.80092806,  0.0518965 ,\n",
       "        0.60521111,  2.05571842,  0.5691191 ,  0.84095268,  0.4107615 ])"
      ]
     },
     "execution_count": 154,
     "metadata": {},
     "output_type": "execute_result"
    }
   ],
   "source": [
    "Y.value"
   ]
  },
  {
   "cell_type": "markdown",
   "metadata": {},
   "source": [
    "Notice that the value of this variable is fixed (even if the parent's value changes)"
   ]
  },
  {
   "cell_type": "code",
   "execution_count": 155,
   "metadata": {
    "collapsed": false
   },
   "outputs": [
    {
     "data": {
      "text/plain": [
       "1.7791903326271949"
      ]
     },
     "execution_count": 155,
     "metadata": {},
     "output_type": "execute_result"
    }
   ],
   "source": [
    "Y.parents['tau'].value"
   ]
  },
  {
   "cell_type": "code",
   "execution_count": 156,
   "metadata": {
    "collapsed": false
   },
   "outputs": [
    {
     "name": "stdout",
     "output_type": "stream",
     "text": [
      "2.20473853378\n"
     ]
    },
    {
     "data": {
      "text/plain": [
       "array([-0.49029625, -0.29028745, -1.31677523, -0.2966883 , -0.5337306 ,\n",
       "       -3.36540298, -2.02043236, -1.0834821 ,  0.01594337, -0.57355078,\n",
       "        0.92050047, -0.09611809, -0.21923504,  0.80092806,  0.0518965 ,\n",
       "        0.60521111,  2.05571842,  0.5691191 ,  0.84095268,  0.4107615 ])"
      ]
     },
     "execution_count": 156,
     "metadata": {},
     "output_type": "execute_result"
    }
   ],
   "source": [
    "sigma_x.random()\n",
    "print(Y.parents['tau'].value)\n",
    "Y.value"
   ]
  },
  {
   "cell_type": "markdown",
   "metadata": {},
   "source": [
    "#### (B) $T+1$ scalar random variables\n",
    "\n",
    "Define an array with `dtype=object`, fill it with scalar variables (use loops) and define it as a `pymc.Container` (this latter step is not necessary, but based on my experience Container types work much more smoothly in the blocking step when we are sampling)."
   ]
  },
  {
   "cell_type": "code",
   "execution_count": 157,
   "metadata": {
    "collapsed": false
   },
   "outputs": [
    {
     "name": "stdout",
     "output_type": "stream",
     "text": [
      "<class 'numpy.ndarray'>\n"
     ]
    },
    {
     "data": {
      "text/plain": [
       "array([ <pymc.distributions.new_dist_class.<locals>.new_class 'y0' at 0x7f755613bf60>,\n",
       "       <pymc.distributions.new_dist_class.<locals>.new_class 'y_1' at 0x7f7556220c50>,\n",
       "       <pymc.distributions.new_dist_class.<locals>.new_class 'y_2' at 0x7f75562200f0>,\n",
       "       <pymc.distributions.new_dist_class.<locals>.new_class 'y_3' at 0x7f7556220160>,\n",
       "       <pymc.distributions.new_dist_class.<locals>.new_class 'y_4' at 0x7f7556220b70>,\n",
       "       <pymc.distributions.new_dist_class.<locals>.new_class 'y_5' at 0x7f7556220b38>,\n",
       "       <pymc.distributions.new_dist_class.<locals>.new_class 'y_6' at 0x7f75562204a8>,\n",
       "       <pymc.distributions.new_dist_class.<locals>.new_class 'y_7' at 0x7f7556220390>,\n",
       "       <pymc.distributions.new_dist_class.<locals>.new_class 'y_8' at 0x7f75562202b0>,\n",
       "       <pymc.distributions.new_dist_class.<locals>.new_class 'y_9' at 0x7f75562207f0>,\n",
       "       <pymc.distributions.new_dist_class.<locals>.new_class 'y_10' at 0x7f75560d4d68>,\n",
       "       <pymc.distributions.new_dist_class.<locals>.new_class 'y_11' at 0x7f7556080400>,\n",
       "       <pymc.distributions.new_dist_class.<locals>.new_class 'y_12' at 0x7f75560807f0>,\n",
       "       <pymc.distributions.new_dist_class.<locals>.new_class 'y_13' at 0x7f75561a32e8>,\n",
       "       <pymc.distributions.new_dist_class.<locals>.new_class 'y_14' at 0x7f75561a3780>,\n",
       "       <pymc.distributions.new_dist_class.<locals>.new_class 'y_15' at 0x7f75561a3f98>,\n",
       "       <pymc.distributions.new_dist_class.<locals>.new_class 'y_16' at 0x7f75561a37b8>,\n",
       "       <pymc.distributions.new_dist_class.<locals>.new_class 'y_17' at 0x7f75561a3ef0>,\n",
       "       <pymc.distributions.new_dist_class.<locals>.new_class 'y_18' at 0x7f75561a30b8>,\n",
       "       <pymc.distributions.new_dist_class.<locals>.new_class 'y_19' at 0x7f75561a3fd0>,\n",
       "       <pymc.distributions.new_dist_class.<locals>.new_class 'y_20' at 0x7f75561a3208>], dtype=object)"
      ]
     },
     "execution_count": 157,
     "metadata": {},
     "output_type": "execute_result"
    }
   ],
   "source": [
    "Y_alt = np.empty(T + 1, dtype = object)\n",
    "Y_alt[0] = y0        # definition of y0 is the same as above\n",
    "\n",
    "for i in range(1, T + 1):\n",
    "    Y_alt[i] = pm.Normal('y_{:d}'.format(i), mu = mu_y[i-1], tau = 1 / sigma_x)\n",
    "\n",
    "print(type(Y_alt))\n",
    "Y_alt"
   ]
  },
  {
   "cell_type": "markdown",
   "metadata": {},
   "source": [
    "Currently, this is just a numpy array of `pymc.Deterministic` functions. We can make it a `pymc` object by using the `pymc.Container` type."
   ]
  },
  {
   "cell_type": "code",
   "execution_count": 158,
   "metadata": {
    "collapsed": false
   },
   "outputs": [
    {
     "data": {
      "text/plain": [
       "pymc.Container.ArrayContainer"
      ]
     },
     "execution_count": 158,
     "metadata": {},
     "output_type": "execute_result"
    }
   ],
   "source": [
    "Y_alt = pm.Container(Y_alt)\n",
    "type(Y_alt)"
   ]
  },
  {
   "cell_type": "markdown",
   "metadata": {},
   "source": [
    "and the pymc methods are applied element-wise. "
   ]
  },
  {
   "cell_type": "markdown",
   "metadata": {},
   "source": [
    "### Create a `pymc.Model` instance\n",
    "Remember that it is just a collection of random variables (`Stochastic` and `Deterministic`), hence"
   ]
  },
  {
   "cell_type": "code",
   "execution_count": 159,
   "metadata": {
    "collapsed": true
   },
   "outputs": [],
   "source": [
    "ar1_model = pm.Model([rho, sigma_x, y0, Y, y0_stdev, mu_y])"
   ]
  },
  {
   "cell_type": "code",
   "execution_count": 160,
   "metadata": {
    "collapsed": false
   },
   "outputs": [
    {
     "data": {
      "text/plain": [
       "{<pymc.distributions.new_dist_class.<locals>.new_class 'rho' at 0x7f75561a3048>,\n",
       " <pymc.distributions.new_dist_class.<locals>.new_class 'sigma_x' at 0x7f75561a39b0>}"
      ]
     },
     "execution_count": 160,
     "metadata": {},
     "output_type": "execute_result"
    }
   ],
   "source": [
    "ar1_model.stochastics   # notice that this is an unordered set (!)"
   ]
  },
  {
   "cell_type": "code",
   "execution_count": 161,
   "metadata": {
    "collapsed": false
   },
   "outputs": [
    {
     "data": {
      "text/plain": [
       "{<pymc.PyMCObjects.Deterministic 'y0_stdev' at 0x7f75561a3cf8>,\n",
       " <pymc.PyMCObjects.Deterministic '(rho_mul_[-0.41026485 -0.49029625 -0.29028745 -1.31677523 -0.2966883  -0.5337306\n",
       "  -3.36540298 -2.02043236 -1.0834821   0.01594337 -0.57355078  0.92050047\n",
       "  -0.09611809 -0.21923504  0.80092806  0.0518965   0.60521111  2.05571842\n",
       "   0.5691191   0.84095268])' at 0x7f75561a3160>}"
      ]
     },
     "execution_count": 161,
     "metadata": {},
     "output_type": "execute_result"
    }
   ],
   "source": [
    "ar1_model.deterministics"
   ]
  },
  {
   "cell_type": "markdown",
   "metadata": {},
   "source": [
    "This object have very limited awareness of the structure of the probabilistic model that it describes and does not itslef possess methods for updating the values in the sampling methods."
   ]
  },
  {
   "cell_type": "markdown",
   "metadata": {},
   "source": [
    "----------------\n",
    "# Fitting the model to the data (MCMC algorithm)\n",
    "\n",
    "### MCMC algorithms\n",
    "\n",
    "The joint prior distribution is sitting on an $N$-dimensional space, where $N$ is the number of parameters we are about to make inference on (see the figure below). Looking at the data through the probabilistic model deform the prior surface into the posterior surface, that we need to explore. In principle, we could naively search this space by picking random points in $\\mathbb{R}^N$ and calculate the corresponding posterior value (Monte Carlo methods), but a more efficient (especially in higher dimensions) way is to do Markov Chain Monte Carlo (MCMC), which is basically an intelligent way of discovering the posterior surface.  \n",
    "\n",
    "MCMC is an iterative procedure: at every iteration, it proposes a nearby point in the space, then ask 'how likely that this point is close to the maximizer of the posterior surface?', it accepts the proposed point if the likelihood exceeds a particular level and rejects it otherwise (by going back to the old position). The key feature of MCMC is that it produces proposals by simulating a Markov chain for which the posterior is the unique, invariant limiting distribution. In other words, after a possible 'trasition period' (i.e. post converegence), it starts producing draws from the posterior.\n",
    "\n",
    "\n",
    "### MCMC algorithm in `pymc`\n",
    "\n",
    "By default it uses the *Metropolis-within-Gibbs* algorithm (in my oppinion), which is based on two simple principles:\n",
    "1. **Blocking and conditioning:**\n",
    "    - Divide the $N$ variables of $\\theta$ into $K\\leq N$ blocks and update every block by sampling from the conditional density, i.e. from the distribuition of the block parameters conditioned on all parameters in the other $K-1$ blocks being at their current values.\n",
    "        * At scan $t$, cycle through the $K$ blocks\n",
    "            $$\\theta^{(t)} = [\\theta^{(t)}_1, \\theta^{(t)}_2, \\theta^{(t)}_3, \\dots, \\theta^{(t)}_K] $$\n",
    "        * Sample from the conditionals\n",
    "    \\begin{align}\n",
    "    \\theta_1^{(t+1)} &\\sim f(\\theta_1\\hspace{1mm} | \\hspace{1mm} \\theta^{(t)}_2, \\theta^{(t)}_3, \\dots, \\theta^{(t)}_K; \\text{data}) \\\\\n",
    "    \\theta_2^{(t+1)} &\\sim f(\\theta_2\\hspace{1mm} | \\hspace{1mm} \\theta^{(t+1)}_1, \\theta^{(t)}_3, \\dots, \\theta^{(t)}_K; \\text{data}) \\\\\n",
    "    \\theta_3^{(t+1)} &\\sim f(\\theta_3\\hspace{1mm} | \\hspace{1mm} \\theta^{(t+1)}_1, \\theta^{(t+1)}_2, \\dots, \\theta^{(t)}_K; \\text{data}) \\\\\n",
    "    \\dots & \\\\\n",
    "        \\theta_K^{(t+1)} &\\sim f(\\theta_3\\hspace{1mm} | \\hspace{1mm} \\theta^{(t+1)}_1, \\theta^{(t+1)}_2, \\dots, \\theta^{(t+1)}_{K-1}; \\text{data})\n",
    "    \\end{align}\n",
    "\n",
    "2. **Sampling (choose/construct `pymc.StepMethod`):** if for a given block the conditional density $f$ can be expressed in (semi-)analytic form, use it, if not, use Metrololis-Hastings\n",
    "   \n",
    "  * Semi-closed form example: Foreward-backward sampler (Carter and Kohn, 1994): \n",
    "  * Metropolis(-Hastings) algorithm:\n",
    "      1. Start at $\\theta$\n",
    "      2. Propose a new point in the parameterspace according to some proposal density $J(\\theta' | \\theta)$ (e.g. random walk)\n",
    "      3. Accept the proposed point with probability\n",
    "      $$\\alpha = \\min\\left( 1, \\frac{p(\\theta'\\hspace{1mm} |\\hspace{1mm} \\text{data})\\hspace{1mm} J(\\theta \\hspace{1mm}|\\hspace{1mm} \\theta')}{ p(\\theta\\hspace{1mm} |\\hspace{1mm} \\text{data})\\hspace{1mm} J(\\theta' \\hspace{1mm}| \\hspace{1mm}\\theta)} \\right) $$\n",
    "          - If accept: Move to the proposed point $\\theta'$ and return to Step 1.\n",
    "          - If reject: Don't move, keep the point $\\theta$ and return to Step 1.\n",
    "      4. After a large number of iterations (once the Markov Chain convereged), return all accepted $\\theta$ as a sample from the posterior\n"
   ]
  },
  {
   "cell_type": "markdown",
   "metadata": {},
   "source": [
    "Again, a `pymc.Model` instance is not much more than a collection, for example, the model variables (blocks) are not matched with step methods determining how to update values in the sampling step. In order to do that, first we need to construct an MCMC instance, which is then ready to be sampled from. \n",
    "\n",
    "MCMC‘s primary job is to create and coordinate a collection of **step methods**, each of which is responsible for updating one or more variables (blocks) at each step of the MCMC algorithm. By default, step methods are automatically assigned to variables by PyMC (after we call the sample method).\n",
    "\n",
    "#### Main built-in `pymc.StepMethod`s \n",
    "    * Metropolis\n",
    "    * AdaptiveMetropolis\n",
    "    * Slicer\n",
    "    * Gibbs\n",
    "\n",
    "you can assign step methods manually by calling the method `use_step_method(method, *args, **kwargs)`: "
   ]
  },
  {
   "cell_type": "code",
   "execution_count": 162,
   "metadata": {
    "collapsed": true
   },
   "outputs": [],
   "source": [
    "M = pm.MCMC(ar1_model)"
   ]
  },
  {
   "cell_type": "markdown",
   "metadata": {},
   "source": [
    "Notice that the step_methods are not assigned yet"
   ]
  },
  {
   "cell_type": "code",
   "execution_count": 163,
   "metadata": {
    "collapsed": false
   },
   "outputs": [
    {
     "data": {
      "text/plain": [
       "{<pymc.distributions.new_dist_class.<locals>.new_class 'y_12' at 0x7f75560807f0>: [],\n",
       " <pymc.distributions.new_dist_class.<locals>.new_class 'y_19' at 0x7f75561a3fd0>: [],\n",
       " <pymc.distributions.new_dist_class.<locals>.new_class 'y_16' at 0x7f75561a37b8>: [],\n",
       " <pymc.distributions.new_dist_class.<locals>.new_class 'y_15' at 0x7f75561a3f98>: [],\n",
       " <pymc.distributions.new_dist_class.<locals>.new_class 'y_14' at 0x7f75561a3780>: [],\n",
       " <pymc.distributions.new_dist_class.<locals>.new_class 'y_4' at 0x7f7556220b70>: [],\n",
       " <pymc.distributions.new_dist_class.<locals>.new_class 'y_5' at 0x7f7556220b38>: [],\n",
       " <pymc.distributions.new_dist_class.<locals>.new_class 'y_17' at 0x7f75561a3ef0>: [],\n",
       " <pymc.distributions.new_dist_class.<locals>.new_class 'y_13' at 0x7f75561a32e8>: [],\n",
       " <pymc.distributions.new_dist_class.<locals>.new_class 'y_8' at 0x7f75562202b0>: [],\n",
       " <pymc.distributions.new_dist_class.<locals>.new_class 'y_9' at 0x7f75562207f0>: [],\n",
       " <pymc.distributions.new_dist_class.<locals>.new_class 'y_20' at 0x7f75561a3208>: [],\n",
       " <pymc.distributions.new_dist_class.<locals>.new_class 'sigma_x' at 0x7f75561a39b0>: [],\n",
       " <pymc.distributions.new_dist_class.<locals>.new_class 'y_3' at 0x7f7556220160>: [],\n",
       " <pymc.distributions.new_dist_class.<locals>.new_class 'y_7' at 0x7f7556220390>: [],\n",
       " <pymc.distributions.new_dist_class.<locals>.new_class 'y_10' at 0x7f75560d4d68>: [],\n",
       " <pymc.distributions.new_dist_class.<locals>.new_class 'y_2' at 0x7f75562200f0>: [],\n",
       " <pymc.distributions.new_dist_class.<locals>.new_class 'y_18' at 0x7f75561a30b8>: [],\n",
       " <pymc.distributions.new_dist_class.<locals>.new_class 'y_6' at 0x7f75562204a8>: [],\n",
       " <pymc.distributions.new_dist_class.<locals>.new_class 'y_1' at 0x7f7556220c50>: [],\n",
       " <pymc.distributions.new_dist_class.<locals>.new_class 'rho' at 0x7f75561a3048>: [],\n",
       " <pymc.distributions.new_dist_class.<locals>.new_class 'y_11' at 0x7f7556080400>: []}"
      ]
     },
     "execution_count": 163,
     "metadata": {},
     "output_type": "execute_result"
    }
   ],
   "source": [
    "M.step_method_dict"
   ]
  },
  {
   "cell_type": "markdown",
   "metadata": {},
   "source": [
    "You can specify them now, or if you call the `sample` method, pymc will assign the step_methods automatically according to some rule"
   ]
  },
  {
   "cell_type": "code",
   "execution_count": 164,
   "metadata": {
    "collapsed": false
   },
   "outputs": [
    {
     "name": "stdout",
     "output_type": "stream",
     "text": [
      " [-----------------100%-----------------] 50000 of 50000 complete in 35.7 sec"
     ]
    }
   ],
   "source": [
    "# draw a sample of size 20,000, drop the first 1,000 and keep only every 5th draw \n",
    "M.sample(iter = 50000, burn = 1000, thin = 5)"
   ]
  },
  {
   "cell_type": "markdown",
   "metadata": {},
   "source": [
    "... and you can check what kind of step methods have been assigned (the default in most cases is the Metropolis step method for non-observed stochastic variables, while in case of observed stochastics, we simply draw from the prior)"
   ]
  },
  {
   "cell_type": "code",
   "execution_count": 165,
   "metadata": {
    "collapsed": false
   },
   "outputs": [
    {
     "data": {
      "text/plain": [
       "{<pymc.distributions.new_dist_class.<locals>.new_class 'y_12' at 0x7f75560807f0>: [<pymc.StepMethods.DrawFromPrior at 0x7f7556229390>],\n",
       " <pymc.distributions.new_dist_class.<locals>.new_class 'y_19' at 0x7f75561a3fd0>: [<pymc.StepMethods.DrawFromPrior at 0x7f7556229390>],\n",
       " <pymc.distributions.new_dist_class.<locals>.new_class 'y_16' at 0x7f75561a37b8>: [<pymc.StepMethods.DrawFromPrior at 0x7f7556229390>],\n",
       " <pymc.distributions.new_dist_class.<locals>.new_class 'y_15' at 0x7f75561a3f98>: [<pymc.StepMethods.DrawFromPrior at 0x7f7556229390>],\n",
       " <pymc.distributions.new_dist_class.<locals>.new_class 'y_14' at 0x7f75561a3780>: [<pymc.StepMethods.DrawFromPrior at 0x7f7556229390>],\n",
       " <pymc.distributions.new_dist_class.<locals>.new_class 'y_4' at 0x7f7556220b70>: [<pymc.StepMethods.DrawFromPrior at 0x7f7556229390>],\n",
       " <pymc.distributions.new_dist_class.<locals>.new_class 'y_5' at 0x7f7556220b38>: [<pymc.StepMethods.DrawFromPrior at 0x7f7556229390>],\n",
       " <pymc.distributions.new_dist_class.<locals>.new_class 'y_17' at 0x7f75561a3ef0>: [<pymc.StepMethods.DrawFromPrior at 0x7f7556229390>],\n",
       " <pymc.distributions.new_dist_class.<locals>.new_class 'y_13' at 0x7f75561a32e8>: [<pymc.StepMethods.DrawFromPrior at 0x7f7556229390>],\n",
       " <pymc.distributions.new_dist_class.<locals>.new_class 'y_8' at 0x7f75562202b0>: [<pymc.StepMethods.DrawFromPrior at 0x7f7556229390>],\n",
       " <pymc.distributions.new_dist_class.<locals>.new_class 'y_9' at 0x7f75562207f0>: [<pymc.StepMethods.DrawFromPrior at 0x7f7556229390>],\n",
       " <pymc.distributions.new_dist_class.<locals>.new_class 'y_20' at 0x7f75561a3208>: [<pymc.StepMethods.DrawFromPrior at 0x7f7556229390>],\n",
       " <pymc.distributions.new_dist_class.<locals>.new_class 'sigma_x' at 0x7f75561a39b0>: [<pymc.StepMethods.Metropolis at 0x7f7556229470>],\n",
       " <pymc.distributions.new_dist_class.<locals>.new_class 'y_3' at 0x7f7556220160>: [<pymc.StepMethods.DrawFromPrior at 0x7f7556229390>],\n",
       " <pymc.distributions.new_dist_class.<locals>.new_class 'y_7' at 0x7f7556220390>: [<pymc.StepMethods.DrawFromPrior at 0x7f7556229390>],\n",
       " <pymc.distributions.new_dist_class.<locals>.new_class 'y_10' at 0x7f75560d4d68>: [<pymc.StepMethods.DrawFromPrior at 0x7f7556229390>],\n",
       " <pymc.distributions.new_dist_class.<locals>.new_class 'y_2' at 0x7f75562200f0>: [<pymc.StepMethods.DrawFromPrior at 0x7f7556229390>],\n",
       " <pymc.distributions.new_dist_class.<locals>.new_class 'y_18' at 0x7f75561a30b8>: [<pymc.StepMethods.DrawFromPrior at 0x7f7556229390>],\n",
       " <pymc.distributions.new_dist_class.<locals>.new_class 'y_6' at 0x7f75562204a8>: [<pymc.StepMethods.DrawFromPrior at 0x7f7556229390>],\n",
       " <pymc.distributions.new_dist_class.<locals>.new_class 'y_1' at 0x7f7556220c50>: [<pymc.StepMethods.DrawFromPrior at 0x7f7556229390>],\n",
       " <pymc.distributions.new_dist_class.<locals>.new_class 'rho' at 0x7f75561a3048>: [<pymc.StepMethods.Metropolis at 0x7f75562293c8>],\n",
       " <pymc.distributions.new_dist_class.<locals>.new_class 'y_11' at 0x7f7556080400>: [<pymc.StepMethods.DrawFromPrior at 0x7f7556229390>]}"
      ]
     },
     "execution_count": 165,
     "metadata": {},
     "output_type": "execute_result"
    }
   ],
   "source": [
    "M.step_method_dict"
   ]
  },
  {
   "cell_type": "markdown",
   "metadata": {},
   "source": [
    "The sample can be reached by the trace method (use the names you used at the initialization not the python name -- useful if the two coincide)"
   ]
  },
  {
   "cell_type": "code",
   "execution_count": 166,
   "metadata": {
    "collapsed": false
   },
   "outputs": [
    {
     "data": {
      "text/plain": [
       "array([ 0.38520033,  0.38572793,  0.24201839,  0.24201839,  0.25300562,\n",
       "        0.49019388,  0.49019388,  0.58805794,  0.56849525,  0.56849525,\n",
       "        0.56849525,  0.56849525,  0.72880629,  0.72880629,  0.51403447,\n",
       "        0.66472121,  0.40543629,  0.40543629,  0.40543629,  0.40543629])"
      ]
     },
     "execution_count": 166,
     "metadata": {},
     "output_type": "execute_result"
    }
   ],
   "source": [
    "M.trace('rho')[:20]"
   ]
  },
  {
   "cell_type": "code",
   "execution_count": 167,
   "metadata": {
    "collapsed": false
   },
   "outputs": [
    {
     "data": {
      "text/plain": [
       "(9800,)"
      ]
     },
     "execution_count": 167,
     "metadata": {},
     "output_type": "execute_result"
    }
   ],
   "source": [
    "M.trace('sigma_x')[:].shape"
   ]
  },
  {
   "cell_type": "markdown",
   "metadata": {},
   "source": [
    "Then this is just a numpy array, so you can do different sort of things with it. For example plot"
   ]
  },
  {
   "cell_type": "code",
   "execution_count": 168,
   "metadata": {
    "collapsed": false
   },
   "outputs": [
    {
     "data": {
      "text/plain": [
       "(array([  1.24900000e+03,   4.48600000e+03,   2.78500000e+03,\n",
       "          9.30000000e+02,   2.47000000e+02,   7.10000000e+01,\n",
       "          1.80000000e+01,   8.00000000e+00,   3.00000000e+00,\n",
       "          3.00000000e+00]),\n",
       " array([ 0.33314016,  0.60141877,  0.86969738,  1.13797599,  1.4062546 ,\n",
       "         1.67453322,  1.94281183,  2.21109044,  2.47936905,  2.74764766,\n",
       "         3.01592627]),\n",
       " <a list of 10 Patch objects>)"
      ]
     },
     "execution_count": 168,
     "metadata": {},
     "output_type": "execute_result"
    },
    {
     "data": {
      "image/png": "[encoded data removed]",
      "text/plain": [
       "<matplotlib.figure.Figure at 0x7f75561d8ef0>"
      ]
     },
     "metadata": {},
     "output_type": "display_data"
    }
   ],
   "source": [
    "sigma_sample = M.trace('sigma_x')[:]\n",
    "rho_sample = M.trace('rho')[:]\n",
    "\n",
    "fig, ax = plt. subplots(1, 2, figsize = (15, 5))\n",
    "ax[0].plot(sigma_sample)\n",
    "ax[1].hist(sigma_sample)\n"
   ]
  },
  {
   "cell_type": "markdown",
   "metadata": {},
   "source": [
    "Acutally, you don't have to waste your time on construction different subplots. `pymc`'s built-in plotting functionality creates pretty informative plots for you (baed on `matplotlib`). On the figure below\n",
    "- Upper left subplot: trace, \n",
    "- Lower left subplot: autocorrelation (try to resample the model with `thin=1`), \n",
    "- Right subplot: histogram with the mean"
   ]
  },
  {
   "cell_type": "code",
   "execution_count": 169,
   "metadata": {
    "collapsed": false
   },
   "outputs": [
    {
     "name": "stdout",
     "output_type": "stream",
     "text": [
      "Plotting rho\n"
     ]
    },
    {
     "data": {
      "image/png": "[encoded data removed]",
      "text/plain": [
       "<matplotlib.figure.Figure at 0x7f75561d8dd8>"
      ]
     },
     "metadata": {},
     "output_type": "display_data"
    }
   ],
   "source": [
    "from pymc.Matplot import plot as fancy_plot\n",
    "fancy_plot(M.trace('rho'))"
   ]
  },
  {
   "cell_type": "markdown",
   "metadata": {},
   "source": [
    "For a non-graphical summary of the posterior use the `stats()` method"
   ]
  },
  {
   "cell_type": "code",
   "execution_count": 170,
   "metadata": {
    "collapsed": false
   },
   "outputs": [
    {
     "data": {
      "text/plain": [
       "{'rho': {'95% HPD interval': array([ 0.1894716,  0.8630899]),\n",
       "  'mc error': 0.0029385342710042278,\n",
       "  'mean': 0.5298227172415475,\n",
       "  'n': 9800,\n",
       "  'quantiles': {2.5: 0.1767998875856974,\n",
       "   25: 0.41720379051147455,\n",
       "   50: 0.53323473221261153,\n",
       "   75: 0.64675882923717398,\n",
       "   97.5: 0.85677266144745734},\n",
       "  'standard deviation': 0.17113578794137885}}"
      ]
     },
     "execution_count": 170,
     "metadata": {},
     "output_type": "execute_result"
    }
   ],
   "source": [
    "M.stats('rho')\n",
    "\n",
    "# Try also: \n",
    "#M.summary()"
   ]
  },
  {
   "cell_type": "code",
   "execution_count": 171,
   "metadata": {
    "collapsed": false
   },
   "outputs": [],
   "source": [
    "N = len(rho_sample)\n",
    "rho_pr = [rho.random() for i in range(N)]\n",
    "sigma_pr = [sigma_x.random() for i in range(N)]\n",
    "\n",
    "Prior = np.vstack([rho_pr, sigma_pr]).T\n",
    "Posterior = np.vstack([rho_sample, sigma_sample]).T"
   ]
  },
  {
   "cell_type": "code",
   "execution_count": 172,
   "metadata": {
    "collapsed": false
   },
   "outputs": [
    {
     "data": {
      "image/png": "[encoded data removed]",
      "text/plain": [
       "<matplotlib.figure.Figure at 0x7f7556e2b6a0>"
      ]
     },
     "metadata": {},
     "output_type": "display_data"
    }
   ],
   "source": [
    "fig, bx = plt.subplots(1, 2, figsize = (17, 10), sharey = True)\n",
    "sb.kdeplot(Prior, shade = True, cmap = 'PuBu', ax = bx[0])\n",
    "bx[0].patch.set_facecolor('white')\n",
    "bx[0].collections[0].set_alpha(0)\n",
    "bx[0].axhline(y = sigma_x_true, color = 'DarkRed', lw =2)\n",
    "bx[0].axvline(x = rho_true, color = 'DarkRed', lw =2)\n",
    "bx[0].set_xlabel(r'$\\rho$', fontsize = 18)\n",
    "bx[0].set_ylabel(r'$\\sigma_x$', fontsize = 18)\n",
    "bx[0].set_title('Prior', fontsize = 20)\n",
    "\n",
    "sb.kdeplot(Posterior, shade = True, cmap = 'PuBu', ax = bx[1])\n",
    "bx[1].patch.set_facecolor('white')\n",
    "bx[1].collections[0].set_alpha(0)\n",
    "bx[1].axhline(y = sigma_x_true, color = 'DarkRed', lw =2)\n",
    "bx[1].axvline(x = rho_true, color = 'DarkRed', lw =2)\n",
    "bx[1].set_xlabel(r'$\\rho$', fontsize = 18)\n",
    "bx[1].set_ylabel(r'$\\sigma_x$', fontsize = 18)\n",
    "bx[1].set_title('Posterior', fontsize = 20)\n",
    "plt.xlim(-1, 1)\n",
    "plt.ylim(0, 1.5)\n",
    "plt.tight_layout()\n",
    "plt.savefig('beamer/prior_post.pdf')"
   ]
  },
  {
   "cell_type": "code",
   "execution_count": 173,
   "metadata": {
    "collapsed": false
   },
   "outputs": [
    {
     "data": {
      "image/png": "[encoded data removed]",
      "text/plain": [
       "<matplotlib.figure.Figure at 0x7f7556db10b8>"
      ]
     },
     "metadata": {},
     "output_type": "display_data"
    }
   ],
   "source": [
    "rho_grid = np.linspace(-1, 1, 100)\n",
    "sigmay_grid = np.linspace(0, 1.5, 100)\n",
    "U = sp.stats.uniform(-1, 2)\n",
    "IG = sp.stats.invgamma(3)\n",
    "\n",
    "fig2, cx = plt.subplots(2, 2, figsize = (17, 12), sharey = True)\n",
    "\n",
    "cx[0, 0].plot(rho_grid, U.pdf(rho_grid), 'r-', lw = 3, alpha = 0.6, label = r'$\\rho$ prior')\n",
    "cx[0, 0].set_title(r\"Marginal prior for $\\rho$\", fontsize = 18)\n",
    "cx[0, 0].axvline(x = rho_true, color = 'DarkRed', lw = 2, linestyle = '--', label = r'True $\\rho$')\n",
    "cx[0, 0].legend(loc='best', fontsize = 16)\n",
    "cx[0, 0].set_xlim(-1, 1)\n",
    "\n",
    "sb.distplot(rho_sample, ax = cx[0,1], kde_kws={\"color\": \"r\", \"lw\": 3, \"label\": r\"$\\rho$ posterior\"})\n",
    "cx[0, 1].set_title(r\"Marginal posterior for $\\rho$\", fontsize = 18)\n",
    "cx[0, 1].axvline(x = rho_true, color = 'DarkRed',  lw = 2, linestyle = '--', label = r'True $\\rho$')\n",
    "cx[0, 1].legend(loc='best', fontsize = 16)\n",
    "cx[0, 1].set_xlim(-1, 1)\n",
    "\n",
    "cx[1, 0].plot(sigmay_grid, IG.pdf(sigmay_grid), 'r-', lw=3, alpha=0.6, label=r'$\\sigma_y$ prior')\n",
    "cx[1, 0].set_title(r\"Marginal prior for $\\sigma_y$\", fontsize = 18)\n",
    "cx[1, 0].axvline(x = sigma_x_true, color = 'DarkRed',  lw = 2, linestyle = '--', label = r'True $\\sigma_y$')\n",
    "cx[1, 0].legend(loc = 'best', fontsize = 16)\n",
    "cx[1, 0].set_xlim(0, 3)\n",
    "\n",
    "sb.distplot(sigma_sample, ax = cx[1,1], kde_kws={\"color\": \"r\", \"lw\": 3, \"label\": r\"$\\sigma_y$ posterior\"})\n",
    "cx[1, 1].set_title(r\"Marginal posterior for $\\sigma_y$\", fontsize = 18)\n",
    "cx[1, 1].axvline(x = sigma_x_true, color = 'DarkRed',  lw = 2, linestyle = '--', label = r'True $\\sigma_y$')\n",
    "cx[1, 1].legend(loc = 'best', fontsize = 16)\n",
    "cx[1, 1].set_xlim(0, 3)\n",
    "plt.tight_layout()\n",
    "plt.savefig('beamer/marginal_prior_post.pdf')"
   ]
  },
  {
   "cell_type": "code",
   "execution_count": null,
   "metadata": {
    "collapsed": true
   },
   "outputs": [],
   "source": []
  },
  {
   "cell_type": "markdown",
   "metadata": {},
   "source": [
    "## Sources and further reading:\n",
    "\n",
    "`pymc` official documentation: https://pymc-devs.github.io/pymc/index.html\n",
    "\n",
    "Rich set of fun examples (very easy read) -- **Probabilistic Programming & Bayesian Methods for Hackers**\n",
    "http://camdavidsonpilon.github.io/Probabilistic-Programming-and-Bayesian-Methods-for-Hackers/\n",
    "\n",
    "Nice example about `potential`: http://healthyalgorithms.com/2008/11/05/mcmc-in-python-pymc-to-sample-uniformly-from-a-convex-body/\n",
    "\n",
    "Non-trivial example comparing the Gibbs and Metropolis algorithms:\n",
    "https://github.com/aflaxman/pymc-examples/blob/master/gibbs_for_uniform_ball.ipynb\n",
    "\n",
    "Another example: https://users.obs.carnegiescience.edu/cburns/ipynbs/PyMC.html"
   ]
  }
 ],
 "metadata": {
  "kernelspec": {
   "display_name": "Python 3",
   "language": "python",
   "name": "python3"
  },
  "language_info": {
   "codemirror_mode": {
    "name": "ipython",
    "version": 3
   },
   "file_extension": ".py",
   "mimetype": "text/x-python",
   "name": "python",
   "nbconvert_exporter": "python",
   "pygments_lexer": "ipython3",
   "version": "3.5.1"
  }
 },
 "nbformat": 4,
 "nbformat_minor": 0
}
